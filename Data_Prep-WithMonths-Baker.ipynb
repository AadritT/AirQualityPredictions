{
 "cells": [
  {
   "cell_type": "code",
   "execution_count": 3,
   "id": "2bd80bce",
   "metadata": {},
   "outputs": [
    {
     "name": "stdout",
     "output_type": "stream",
     "text": [
      "done\n"
     ]
    }
   ],
   "source": [
    "import pandas as pd\n",
    "\n",
    "#-----------------ozone and pm2 data\n",
    "\n",
    "df_oz = pd.read_csv('ozone_2011_2020.csv')\n",
    "df_pm2 = pd.read_csv('pm2_2011_2020.csv')\n",
    "\n",
    "\n",
    "df_oz = df_oz[[\"dates\",\"omean\",'aqi']]\n",
    "df_pm2 = df_pm2[[\"dates\",\"pmean\"]] \n",
    "\n",
    "df_oz[\"dates\"]  = pd.to_datetime(df_oz[\"dates\"])\n",
    "df_pm2[\"dates\"]  = pd.to_datetime(df_pm2[\"dates\"])\n",
    "\n",
    "\n",
    "date_range = pd.date_range(start = '1/1/2011', end = '12/31/2020')\n",
    "df = pd.DataFrame()\n",
    "df['dates'] = date_range\n",
    "\n",
    "\n",
    "df = df.merge(df_oz, how = 'left', left_on = 'dates', right_on = 'dates')\n",
    "df = df.merge(df_pm2, how = 'left', left_on = 'dates', right_on = 'dates')\n",
    "\n",
    "df = df.fillna(method='ffill')\n",
    "#df.drop(['dates_x','dates_y'], inplace=True, axis=1)\n",
    "\n",
    "df.to_csv('allPollution_2011_2020.csv',encoding='utf-8',index=False)\n",
    "\n",
    "\n",
    "#-------weather data\n",
    "df_weather = pd.read_csv('WeatherData_2011_2020.csv')\n",
    "\n",
    "df_weather = df_weather[['datetime','temp', 'humidity', 'precip', 'windspeed']]\n",
    "df_weather['datetime'] = pd.to_datetime(df_weather['datetime'])\n",
    "\n",
    "df_all = df_weather.merge(df, how = 'right', left_on = 'datetime', right_on = 'dates')\n",
    "\n",
    "df_all['Season'] = ((df_all['dates'].dt.month).floordiv(3)).mod(4)\n",
    "df_all.drop(['dates'],inplace= True, axis = 1)\n",
    "\n",
    "df_all.to_csv('WeatherAndPollution_2011_2020.csv',encoding='utf-8',index=False)\n",
    "\n",
    "\n",
    "\n",
    "print(\"done\")"
   ]
  },
  {
   "cell_type": "code",
   "execution_count": 20,
   "id": "24c29042",
   "metadata": {},
   "outputs": [
    {
     "name": "stdout",
     "output_type": "stream",
     "text": [
      "         dates     ozone   aqi  pm2.5  Season\n",
      "200 2011-07-20  0.016588  17.0    9.7       2\n"
     ]
    }
   ],
   "source": [
    "print(df.loc[[200]])"
   ]
  },
  {
   "cell_type": "code",
   "execution_count": 3,
   "id": "924ab322",
   "metadata": {},
   "outputs": [
    {
     "name": "stdout",
     "output_type": "stream",
     "text": [
      "      state_code  county_code  site_number  parameter_code  poc   latitude  \\\n",
      "0              6           75            5           44201    1  37.765946   \n",
      "1              6           75            5           44201    1  37.765946   \n",
      "2              6           75            5           44201    1  37.765946   \n",
      "3              6           75            5           44201    1  37.765946   \n",
      "4              6           75            5           44201    1  37.765946   \n",
      "...          ...          ...          ...             ...  ...        ...   \n",
      "3638           6           75            5           44201    1  37.765946   \n",
      "3639           6           75            5           44201    1  37.765946   \n",
      "3640           6           75            5           44201    1  37.765946   \n",
      "3641           6           75            5           44201    1  37.765946   \n",
      "3642           6           75            5           44201    1  37.765946   \n",
      "\n",
      "       longitude  datum parameter sample_duration_code  ... method_code  \\\n",
      "0    -122.399044  WGS84     Ozone                    W  ...          47   \n",
      "1    -122.399044  WGS84     Ozone                    W  ...          47   \n",
      "2    -122.399044  WGS84     Ozone                    W  ...          47   \n",
      "3    -122.399044  WGS84     Ozone                    W  ...          47   \n",
      "4    -122.399044  WGS84     Ozone                    W  ...          47   \n",
      "...          ...    ...       ...                  ...  ...         ...   \n",
      "3638 -122.399044  WGS84     Ozone                    W  ...          47   \n",
      "3639 -122.399044  WGS84     Ozone                    W  ...          47   \n",
      "3640 -122.399044  WGS84     Ozone                    W  ...          47   \n",
      "3641 -122.399044  WGS84     Ozone                    W  ...          47   \n",
      "3642 -122.399044  WGS84     Ozone                    W  ...          47   \n",
      "\n",
      "                           method local_site_name     site_address  \\\n",
      "0     INSTRUMENTAL - ULTRA VIOLET   San Francisco  10 ARKANSAS ST.   \n",
      "1     INSTRUMENTAL - ULTRA VIOLET   San Francisco  10 ARKANSAS ST.   \n",
      "2     INSTRUMENTAL - ULTRA VIOLET   San Francisco  10 ARKANSAS ST.   \n",
      "3     INSTRUMENTAL - ULTRA VIOLET   San Francisco  10 ARKANSAS ST.   \n",
      "4     INSTRUMENTAL - ULTRA VIOLET   San Francisco  10 ARKANSAS ST.   \n",
      "...                           ...             ...              ...   \n",
      "3638  INSTRUMENTAL - ULTRA VIOLET   San Francisco  10 ARKANSAS ST.   \n",
      "3639  INSTRUMENTAL - ULTRA VIOLET   San Francisco  10 ARKANSAS ST.   \n",
      "3640  INSTRUMENTAL - ULTRA VIOLET   San Francisco  10 ARKANSAS ST.   \n",
      "3641  INSTRUMENTAL - ULTRA VIOLET   San Francisco  10 ARKANSAS ST.   \n",
      "3642  INSTRUMENTAL - ULTRA VIOLET   San Francisco  10 ARKANSAS ST.   \n",
      "\n",
      "           state         county           city cbsa_code  \\\n",
      "0     California  San Francisco  San Francisco     41860   \n",
      "1     California  San Francisco  San Francisco     41860   \n",
      "2     California  San Francisco  San Francisco     41860   \n",
      "3     California  San Francisco  San Francisco     41860   \n",
      "4     California  San Francisco  San Francisco     41860   \n",
      "...          ...            ...            ...       ...   \n",
      "3638  California  San Francisco  San Francisco     41860   \n",
      "3639  California  San Francisco  San Francisco     41860   \n",
      "3640  California  San Francisco  San Francisco     41860   \n",
      "3641  California  San Francisco  San Francisco     41860   \n",
      "3642  California  San Francisco  San Francisco     41860   \n",
      "\n",
      "                                   cbsa  date_of_last_change  \n",
      "0     San Francisco-Oakland-Hayward, CA           2021-11-27  \n",
      "1     San Francisco-Oakland-Hayward, CA           2021-11-27  \n",
      "2     San Francisco-Oakland-Hayward, CA           2021-11-27  \n",
      "3     San Francisco-Oakland-Hayward, CA           2021-11-27  \n",
      "4     San Francisco-Oakland-Hayward, CA           2021-11-27  \n",
      "...                                 ...                  ...  \n",
      "3638  San Francisco-Oakland-Hayward, CA           2021-10-31  \n",
      "3639  San Francisco-Oakland-Hayward, CA           2021-10-31  \n",
      "3640  San Francisco-Oakland-Hayward, CA           2021-10-31  \n",
      "3641  San Francisco-Oakland-Hayward, CA           2021-10-31  \n",
      "3642  San Francisco-Oakland-Hayward, CA           2021-10-31  \n",
      "\n",
      "[3643 rows x 32 columns]\n"
     ]
    }
   ],
   "source": [
    "df_oz = pd.read_csv('ozone_2011_2020.csv')\n",
    "print(df_oz)"
   ]
  },
  {
   "cell_type": "code",
   "execution_count": null,
   "id": "15372037",
   "metadata": {},
   "outputs": [],
   "source": []
  }
 ],
 "metadata": {
  "kernelspec": {
   "display_name": "Python 3 (ipykernel)",
   "language": "python",
   "name": "python3"
  },
  "language_info": {
   "codemirror_mode": {
    "name": "ipython",
    "version": 3
   },
   "file_extension": ".py",
   "mimetype": "text/x-python",
   "name": "python",
   "nbconvert_exporter": "python",
   "pygments_lexer": "ipython3",
   "version": "3.9.13"
  }
 },
 "nbformat": 4,
 "nbformat_minor": 5
}
